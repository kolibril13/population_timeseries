{
 "cells": [
  {
   "cell_type": "code",
   "execution_count": 2,
   "metadata": {},
   "outputs": [],
   "source": [
    "import bpy"
   ]
  },
  {
   "cell_type": "code",
   "execution_count": 15,
   "metadata": {},
   "outputs": [
    {
     "data": {
      "text/html": [
       "<div><style>\n",
       ".dataframe > thead > tr,\n",
       ".dataframe > tbody > tr {\n",
       "  text-align: right;\n",
       "  white-space: pre-wrap;\n",
       "}\n",
       "</style>\n",
       "<small>shape: (1_860, 94)</small><table border=\"1\" class=\"dataframe\"><thead><tr><th>Index</th><th>Country Code</th><th>Country or area</th><th>City Code</th><th>Urban Agglomeration</th><th>Note</th><th>Latitude</th><th>Longitude</th><th>1950</th><th>1951</th><th>1952</th><th>1953</th><th>1954</th><th>1955</th><th>1956</th><th>1957</th><th>1958</th><th>1959</th><th>1960</th><th>1961</th><th>1962</th><th>1963</th><th>1964</th><th>1965</th><th>1966</th><th>1967</th><th>1968</th><th>1969</th><th>1970</th><th>1971</th><th>1972</th><th>1973</th><th>1974</th><th>1975</th><th>1976</th><th>1977</th><th>1978</th><th>&hellip;</th><th>1999</th><th>2000</th><th>2001</th><th>2002</th><th>2003</th><th>2004</th><th>2005</th><th>2006</th><th>2007</th><th>2008</th><th>2009</th><th>2010</th><th>2011</th><th>2012</th><th>2013</th><th>2014</th><th>2015</th><th>2016</th><th>2017</th><th>2018</th><th>2019</th><th>2020</th><th>2021</th><th>2022</th><th>2023</th><th>2024</th><th>2025</th><th>2026</th><th>2027</th><th>2028</th><th>2029</th><th>2030</th><th>2031</th><th>2032</th><th>2033</th><th>2034</th><th>2035</th></tr><tr><td>i64</td><td>i64</td><td>str</td><td>i64</td><td>str</td><td>str</td><td>f64</td><td>f64</td><td>f64</td><td>f64</td><td>f64</td><td>f64</td><td>f64</td><td>f64</td><td>f64</td><td>f64</td><td>f64</td><td>f64</td><td>f64</td><td>f64</td><td>f64</td><td>f64</td><td>f64</td><td>f64</td><td>f64</td><td>f64</td><td>f64</td><td>f64</td><td>f64</td><td>f64</td><td>f64</td><td>f64</td><td>f64</td><td>f64</td><td>f64</td><td>f64</td><td>f64</td><td>&hellip;</td><td>f64</td><td>f64</td><td>f64</td><td>f64</td><td>f64</td><td>f64</td><td>f64</td><td>f64</td><td>f64</td><td>f64</td><td>f64</td><td>f64</td><td>f64</td><td>f64</td><td>f64</td><td>f64</td><td>f64</td><td>f64</td><td>f64</td><td>f64</td><td>f64</td><td>f64</td><td>f64</td><td>f64</td><td>f64</td><td>f64</td><td>f64</td><td>f64</td><td>f64</td><td>f64</td><td>f64</td><td>f64</td><td>f64</td><td>f64</td><td>f64</td><td>f64</td><td>f64</td></tr></thead><tbody><tr><td>1</td><td>4</td><td>&quot;Afghanistan&quot;</td><td>20001</td><td>&quot;Herat&quot;</td><td>null</td><td>34.34817</td><td>62.19967</td><td>82.468</td><td>83.114</td><td>83.767</td><td>84.422</td><td>85.084</td><td>85.751</td><td>86.424</td><td>87.101</td><td>87.783</td><td>88.472</td><td>89.166</td><td>89.864</td><td>90.568</td><td>91.278</td><td>91.995</td><td>92.715</td><td>93.441</td><td>94.878</td><td>97.063</td><td>99.292</td><td>101.576</td><td>103.912</td><td>107.154</td><td>111.371</td><td>115.76</td><td>120.323</td><td>125.071</td><td>129.994</td><td>135.117</td><td>&hellip;</td><td>228.361</td><td>233.991</td><td>239.744</td><td>245.647</td><td>251.695</td><td>261.559</td><td>275.678</td><td>290.58</td><td>306.287</td><td>322.868</td><td>340.296</td><td>358.691</td><td>378.081</td><td>398.548</td><td>420.061</td><td>442.768</td><td>466.703</td><td>491.967</td><td>518.599</td><td>546.672</td><td>575.806</td><td>605.575</td><td>635.579</td><td>665.477</td><td>695.043</td><td>724.172</td><td>752.91</td><td>781.38</td><td>809.8</td><td>838.394</td><td>867.422</td><td>897.041</td><td>927.393</td><td>958.549</td><td>990.635</td><td>1023.636</td><td>1057.573</td></tr><tr><td>2</td><td>4</td><td>&quot;Afghanistan&quot;</td><td>20002</td><td>&quot;Kabul&quot;</td><td>null</td><td>34.528887</td><td>69.17246</td><td>170.784</td><td>179.779</td><td>189.26</td><td>199.213</td><td>209.705</td><td>220.749</td><td>232.391</td><td>244.613</td><td>257.496</td><td>271.057</td><td>285.352</td><td>300.359</td><td>316.177</td><td>332.829</td><td>350.382</td><td>368.809</td><td>388.232</td><td>408.087</td><td>428.363</td><td>449.585</td><td>471.891</td><td>495.303</td><td>528.508</td><td>573.161</td><td>621.656</td><td>674.254</td><td>731.385</td><td>793.178</td><td>860.289</td><td>&hellip;</td><td>2298.059</td><td>2401.109</td><td>2508.477</td><td>2620.804</td><td>2738.161</td><td>2834.061</td><td>2905.178</td><td>2978.181</td><td>3053.018</td><td>3129.844</td><td>3208.383</td><td>3289.005</td><td>3371.653</td><td>3456.496</td><td>3543.232</td><td>3632.269</td><td>3723.543</td><td>3817.241</td><td>3913.297</td><td>4011.77</td><td>4114.03</td><td>4221.532</td><td>4335.77</td><td>4457.882</td><td>4588.666</td><td>4728.384</td><td>4877.024</td><td>5034.106</td><td>5199.155</td><td>5371.55</td><td>5551.063</td><td>5737.138</td><td>5929.531</td><td>6127.953</td><td>6332.756</td><td>6543.594</td><td>6760.5</td></tr><tr><td>3</td><td>4</td><td>&quot;Afghanistan&quot;</td><td>20003</td><td>&quot;Kandahar&quot;</td><td>null</td><td>31.61332</td><td>65.71013</td><td>82.199</td><td>83.663</td><td>85.155</td><td>86.67</td><td>88.214</td><td>89.785</td><td>91.387</td><td>93.012</td><td>94.669</td><td>96.355</td><td>98.074</td><td>99.818</td><td>101.596</td><td>103.406</td><td>105.25</td><td>107.123</td><td>109.031</td><td>112.297</td><td>117.055</td><td>122.002</td><td>127.164</td><td>132.545</td><td>137.853</td><td>143.036</td><td>148.423</td><td>154.012</td><td>159.819</td><td>165.829</td><td>172.074</td><td>&hellip;</td><td>290.3</td><td>297.456</td><td>304.767</td><td>312.268</td><td>319.954</td><td>328.115</td><td>336.746</td><td>345.617</td><td>354.721</td><td>364.078</td><td>373.655</td><td>383.498</td><td>393.6</td><td>403.983</td><td>414.61</td><td>425.532</td><td>436.741</td><td>448.262</td><td>460.087</td><td>472.224</td><td>484.812</td><td>498.002</td><td>511.949</td><td>526.775</td><td>542.565</td><td>559.349</td><td>577.128</td><td>595.853</td><td>615.48</td><td>635.944</td><td>657.23</td><td>679.278</td><td>702.066</td><td>725.563</td><td>749.814</td><td>774.779</td><td>800.461</td></tr><tr><td>4</td><td>4</td><td>&quot;Afghanistan&quot;</td><td>20004</td><td>&quot;Mazar-e Sharif&quot;</td><td>null</td><td>36.70904</td><td>67.11087</td><td>30.0</td><td>31.308</td><td>32.676</td><td>34.099</td><td>35.586</td><td>37.139</td><td>38.761</td><td>40.449</td><td>42.213</td><td>44.054</td><td>45.979</td><td>47.981</td><td>50.074</td><td>52.258</td><td>54.541</td><td>56.916</td><td>59.399</td><td>61.989</td><td>64.697</td><td>67.515</td><td>70.46</td><td>73.533</td><td>76.745</td><td>80.087</td><td>83.58</td><td>87.226</td><td>91.036</td><td>95.001</td><td>99.144</td><td>&hellip;</td><td>168.224</td><td>172.372</td><td>176.61</td><td>180.958</td><td>185.413</td><td>193.721</td><td>206.403</td><td>219.935</td><td>234.353</td><td>249.739</td><td>266.088</td><td>283.532</td><td>302.12</td><td>321.955</td><td>343.032</td><td>365.52</td><td>389.483</td><td>415.053</td><td>442.302</td><td>471.339</td><td>501.665</td><td>532.689</td><td>563.825</td><td>594.551</td><td>624.5</td><td>653.486</td><td>681.531</td><td>708.798</td><td>735.572</td><td>762.162</td><td>788.909</td><td>816.04</td><td>843.747</td><td>872.137</td><td>901.348</td><td>931.381</td><td>962.262</td></tr><tr><td>5</td><td>8</td><td>&quot;Albania&quot;</td><td>20005</td><td>&quot;Tiranë (Tirana)&quot;</td><td>null</td><td>41.3275</td><td>19.81889</td><td>84.513</td><td>88.866</td><td>93.08</td><td>97.481</td><td>102.097</td><td>106.932</td><td>112.001</td><td>117.295</td><td>122.847</td><td>128.662</td><td>134.761</td><td>137.714</td><td>139.561</td><td>141.434</td><td>143.334</td><td>145.255</td><td>147.203</td><td>149.178</td><td>151.183</td><td>153.497</td><td>156.734</td><td>160.04</td><td>163.42</td><td>166.862</td><td>170.381</td><td>173.975</td><td>177.649</td><td>181.391</td><td>185.217</td><td>&hellip;</td><td>325.262</td><td>335.336</td><td>344.7</td><td>351.285</td><td>357.995</td><td>364.843</td><td>371.803</td><td>378.905</td><td>386.143</td><td>393.529</td><td>401.036</td><td>408.697</td><td>416.504</td><td>424.471</td><td>432.59</td><td>440.865</td><td>449.298</td><td>457.892</td><td>466.651</td><td>475.577</td><td>484.624</td><td>493.712</td><td>502.734</td><td>511.559</td><td>520.059</td><td>528.127</td><td>535.702</td><td>542.74</td><td>549.219</td><td>555.132</td><td>560.491</td><td>565.301</td><td>569.577</td><td>573.332</td><td>576.588</td><td>579.349</td><td>581.626</td></tr><tr><td>&hellip;</td><td>&hellip;</td><td>&hellip;</td><td>&hellip;</td><td>&hellip;</td><td>&hellip;</td><td>&hellip;</td><td>&hellip;</td><td>&hellip;</td><td>&hellip;</td><td>&hellip;</td><td>&hellip;</td><td>&hellip;</td><td>&hellip;</td><td>&hellip;</td><td>&hellip;</td><td>&hellip;</td><td>&hellip;</td><td>&hellip;</td><td>&hellip;</td><td>&hellip;</td><td>&hellip;</td><td>&hellip;</td><td>&hellip;</td><td>&hellip;</td><td>&hellip;</td><td>&hellip;</td><td>&hellip;</td><td>&hellip;</td><td>&hellip;</td><td>&hellip;</td><td>&hellip;</td><td>&hellip;</td><td>&hellip;</td><td>&hellip;</td><td>&hellip;</td><td>&hellip;</td><td>&hellip;</td><td>&hellip;</td><td>&hellip;</td><td>&hellip;</td><td>&hellip;</td><td>&hellip;</td><td>&hellip;</td><td>&hellip;</td><td>&hellip;</td><td>&hellip;</td><td>&hellip;</td><td>&hellip;</td><td>&hellip;</td><td>&hellip;</td><td>&hellip;</td><td>&hellip;</td><td>&hellip;</td><td>&hellip;</td><td>&hellip;</td><td>&hellip;</td><td>&hellip;</td><td>&hellip;</td><td>&hellip;</td><td>&hellip;</td><td>&hellip;</td><td>&hellip;</td><td>&hellip;</td><td>&hellip;</td><td>&hellip;</td><td>&hellip;</td><td>&hellip;</td><td>&hellip;</td><td>&hellip;</td><td>&hellip;</td><td>&hellip;</td><td>&hellip;</td><td>&hellip;</td><td>&hellip;</td></tr><tr><td>1856</td><td>894</td><td>&quot;Zambia&quot;</td><td>23277</td><td>&quot;Lusaka&quot;</td><td>null</td><td>-15.413374</td><td>28.277148</td><td>31.169</td><td>34.691</td><td>38.617</td><td>42.975</td><td>47.832</td><td>53.237</td><td>59.262</td><td>65.949</td><td>73.401</td><td>81.696</td><td>90.942</td><td>101.204</td><td>112.64</td><td>125.639</td><td>141.668</td><td>159.69</td><td>180.034</td><td>202.97</td><td>228.866</td><td>257.98</td><td>277.523</td><td>296.229</td><td>316.224</td><td>337.509</td><td>360.259</td><td>384.542</td><td>410.498</td><td>438.128</td><td>467.66</td><td>&hellip;</td><td>1036.489</td><td>1073.299</td><td>1121.302</td><td>1176.111</td><td>1233.599</td><td>1293.983</td><td>1357.143</td><td>1423.481</td><td>1493.061</td><td>1566.144</td><td>1642.59</td><td>1722.879</td><td>1807.094</td><td>1895.425</td><td>1988.075</td><td>2085.252</td><td>2187.18</td><td>2294.091</td><td>2406.227</td><td>2523.844</td><td>2646.619</td><td>2774.133</td><td>2905.993</td><td>3041.789</td><td>3181.25</td><td>3324.219</td><td>3470.866</td><td>3621.323</td><td>3775.863</td><td>3934.683</td><td>4098.231</td><td>4266.517</td><td>4439.68</td><td>4617.689</td><td>4800.978</td><td>4989.296</td><td>5182.669</td></tr><tr><td>1857</td><td>894</td><td>&quot;Zambia&quot;</td><td>23279</td><td>&quot;Ndola&quot;</td><td>null</td><td>-12.95867</td><td>28.63659</td><td>30.621</td><td>33.382</td><td>36.395</td><td>39.671</td><td>43.247</td><td>47.145</td><td>51.401</td><td>56.028</td><td>61.078</td><td>66.584</td><td>72.595</td><td>79.129</td><td>86.262</td><td>94.038</td><td>102.527</td><td>111.755</td><td>121.829</td><td>132.811</td><td>144.8</td><td>157.833</td><td>167.028</td><td>175.888</td><td>185.231</td><td>195.043</td><td>205.389</td><td>216.284</td><td>227.773</td><td>239.838</td><td>252.561</td><td>&hellip;</td><td>369.371</td><td>373.498</td><td>379.634</td><td>386.759</td><td>394.018</td><td>401.424</td><td>408.948</td><td>416.623</td><td>424.443</td><td>432.42</td><td>440.525</td><td>448.793</td><td>457.216</td><td>465.797</td><td>474.539</td><td>483.445</td><td>492.519</td><td>501.762</td><td>511.18</td><td>520.773</td><td>531.047</td><td>542.495</td><td>555.56</td><td>570.567</td><td>587.716</td><td>607.069</td><td>628.595</td><td>652.141</td><td>677.512</td><td>704.477</td><td>732.866</td><td>762.477</td><td>793.182</td><td>824.875</td><td>857.57</td><td>891.191</td><td>925.726</td></tr><tr><td>1858</td><td>716</td><td>&quot;Zimbabwe&quot;</td><td>22510</td><td>&quot;Bulawayo&quot;</td><td>null</td><td>-20.15</td><td>28.58333</td><td>91.635</td><td>92.2</td><td>92.769</td><td>93.34</td><td>93.916</td><td>94.495</td><td>96.164</td><td>104.336</td><td>113.216</td><td>122.851</td><td>133.322</td><td>144.652</td><td>156.534</td><td>167.145</td><td>178.49</td><td>190.572</td><td>203.489</td><td>217.282</td><td>232.031</td><td>247.171</td><td>260.341</td><td>274.213</td><td>288.845</td><td>307.027</td><td>317.229</td><td>327.77</td><td>338.676</td><td>349.913</td><td>361.539</td><td>&hellip;</td><td>658.951</td><td>664.56</td><td>670.201</td><td>675.897</td><td>674.592</td><td>672.228</td><td>669.878</td><td>667.533</td><td>665.196</td><td>662.864</td><td>660.547</td><td>658.235</td><td>655.931</td><td>653.631</td><td>651.346</td><td>649.069</td><td>646.8</td><td>644.539</td><td>642.286</td><td>640.04</td><td>638.467</td><td>638.188</td><td>639.722</td><td>643.427</td><td>649.509</td><td>658.028</td><td>668.949</td><td>682.123</td><td>697.347</td><td>714.397</td><td>733.107</td><td>753.306</td><td>774.894</td><td>797.799</td><td>822.049</td><td>847.603</td><td>874.479</td></tr><tr><td>1859</td><td>716</td><td>&quot;Zimbabwe&quot;</td><td>22511</td><td>&quot;Chitungwiza&quot;</td><td>null</td><td>-18.01274</td><td>31.07555</td><td>38.645</td><td>40.487</td><td>42.42</td><td>44.439</td><td>46.558</td><td>48.777</td><td>51.105</td><td>53.538</td><td>56.09</td><td>58.764</td><td>61.569</td><td>64.5</td><td>67.575</td><td>70.796</td><td>74.176</td><td>77.706</td><td>81.411</td><td>85.292</td><td>89.363</td><td>93.617</td><td>98.08</td><td>102.755</td><td>107.66</td><td>112.785</td><td>118.162</td><td>123.794</td><td>129.704</td><td>135.878</td><td>142.355</td><td>&hellip;</td><td>307.268</td><td>312.294</td><td>317.388</td><td>322.572</td><td>326.047</td><td>329.29</td><td>332.557</td><td>335.861</td><td>339.197</td><td>342.571</td><td>345.969</td><td>349.406</td><td>352.877</td><td>356.387</td><td>359.923</td><td>363.494</td><td>367.101</td><td>370.743</td><td>374.421</td><td>378.136</td><td>382.081</td><td>386.452</td><td>391.429</td><td>397.149</td><td>403.714</td><td>411.186</td><td>419.611</td><td>428.988</td><td>439.293</td><td>450.483</td><td>462.539</td><td>475.422</td><td>489.115</td><td>503.603</td><td>518.923</td><td>535.06</td><td>552.027</td></tr><tr><td>1860</td><td>716</td><td>&quot;Zimbabwe&quot;</td><td>22513</td><td>&quot;Harare&quot;</td><td>null</td><td>-17.82935</td><td>31.05389</td><td>142.652</td><td>151.314</td><td>160.515</td><td>170.247</td><td>180.584</td><td>191.549</td><td>202.932</td><td>213.347</td><td>224.312</td><td>235.84</td><td>247.978</td><td>260.705</td><td>274.104</td><td>288.191</td><td>303.024</td><td>318.576</td><td>334.949</td><td>352.163</td><td>370.288</td><td>390.272</td><td>416.547</td><td>444.591</td><td>474.565</td><td>502.04</td><td>516.965</td><td>532.332</td><td>548.179</td><td>564.452</td><td>581.232</td><td>&hellip;</td><td>1353.471</td><td>1379.266</td><td>1405.48</td><td>1432.229</td><td>1440.013</td><td>1444.905</td><td>1449.799</td><td>1454.718</td><td>1459.652</td><td>1464.611</td><td>1469.572</td><td>1474.557</td><td>1479.559</td><td>1484.585</td><td>1489.614</td><td>1494.66</td><td>1499.723</td><td>1504.803</td><td>1509.901</td><td>1515.016</td><td>1521.311</td><td>1529.92</td><td>1541.824</td><td>1557.74</td><td>1578.128</td><td>1603.201</td><td>1633.019</td><td>1667.408</td><td>1706.082</td><td>1748.693</td><td>1795.008</td><td>1844.741</td><td>1897.744</td><td>1953.901</td><td>2013.316</td><td>2075.912</td><td>2141.738</td></tr></tbody></table></div>"
      ],
      "text/plain": [
       "shape: (1_860, 94)\n",
       "┌───────┬──────────────┬───────────────┬───────────┬───┬──────────┬──────────┬──────────┬──────────┐\n",
       "│ Index ┆ Country Code ┆ Country or    ┆ City Code ┆ … ┆ 2032     ┆ 2033     ┆ 2034     ┆ 2035     │\n",
       "│ ---   ┆ ---          ┆ area          ┆ ---       ┆   ┆ ---      ┆ ---      ┆ ---      ┆ ---      │\n",
       "│ i64   ┆ i64          ┆ ---           ┆ i64       ┆   ┆ f64      ┆ f64      ┆ f64      ┆ f64      │\n",
       "│       ┆              ┆ str           ┆           ┆   ┆          ┆          ┆          ┆          │\n",
       "╞═══════╪══════════════╪═══════════════╪═══════════╪═══╪══════════╪══════════╪══════════╪══════════╡\n",
       "│ 1     ┆ 4            ┆ Afghanistan   ┆ 20001     ┆ … ┆ 958.549  ┆ 990.635  ┆ 1023.636 ┆ 1057.573 │\n",
       "│ 2     ┆ 4            ┆ Afghanistan   ┆ 20002     ┆ … ┆ 6127.953 ┆ 6332.756 ┆ 6543.594 ┆ 6760.5   │\n",
       "│ 3     ┆ 4            ┆ Afghanistan   ┆ 20003     ┆ … ┆ 725.563  ┆ 749.814  ┆ 774.779  ┆ 800.461  │\n",
       "│ 4     ┆ 4            ┆ Afghanistan   ┆ 20004     ┆ … ┆ 872.137  ┆ 901.348  ┆ 931.381  ┆ 962.262  │\n",
       "│ 5     ┆ 8            ┆ Albania       ┆ 20005     ┆ … ┆ 573.332  ┆ 576.588  ┆ 579.349  ┆ 581.626  │\n",
       "│ …     ┆ …            ┆ …             ┆ …         ┆ … ┆ …        ┆ …        ┆ …        ┆ …        │\n",
       "│ 1856  ┆ 894          ┆ Zambia        ┆ 23277     ┆ … ┆ 4617.689 ┆ 4800.978 ┆ 4989.296 ┆ 5182.669 │\n",
       "│ 1857  ┆ 894          ┆ Zambia        ┆ 23279     ┆ … ┆ 824.875  ┆ 857.57   ┆ 891.191  ┆ 925.726  │\n",
       "│ 1858  ┆ 716          ┆ Zimbabwe      ┆ 22510     ┆ … ┆ 797.799  ┆ 822.049  ┆ 847.603  ┆ 874.479  │\n",
       "│ 1859  ┆ 716          ┆ Zimbabwe      ┆ 22511     ┆ … ┆ 503.603  ┆ 518.923  ┆ 535.06   ┆ 552.027  │\n",
       "│ 1860  ┆ 716          ┆ Zimbabwe      ┆ 22513     ┆ … ┆ 1953.901 ┆ 2013.316 ┆ 2075.912 ┆ 2141.738 │\n",
       "└───────┴──────────────┴───────────────┴───────────┴───┴──────────┴──────────┴──────────┴──────────┘"
      ]
     },
     "execution_count": 15,
     "metadata": {},
     "output_type": "execute_result"
    }
   ],
   "source": [
    "# %pip install fastexcel \n",
    "# %pip install pyarrow\n",
    "# Read the Excel file into a Polars DataFrame\n",
    "\n",
    "\n",
    "# from https://population.un.org/wup/downloads \n",
    "# -> Urban Agglomerations\n",
    "# -> File 22: Annual Population of Urban Agglomerations with 300,000 Inhabitants or More in 2018, by country,  (thousands)\n",
    "\n",
    "\n",
    "from pathlib import Path\n",
    "import polars as pl\n",
    "file_path = Path.home() / \"projects\" / \"animation_earth_population\" / \"WUP2018-F22-Cities_Over_300K_Annual.xls\"\n",
    "file_path.exists()\n",
    "\n",
    "df = pl.read_excel(\n",
    "    file_path,  # Use the Path object here\n",
    "    read_options={\"skip_rows\": 16},  # Skip rows up to the header\n",
    "    has_header=False,  # Indicate no header is currently in use\n",
    ")\n",
    "\n",
    "# Use the first row as headers and drop it\n",
    "df.columns = [str(x) for x in df.row(0)]\n",
    "df = df[1:]\n",
    "\n",
    "# Rename floatlike column names such as \"1950.0\" → \"1950\"\n",
    "df.columns = [col[:-2] if col.endswith(\".0\") else col for col in df.columns]\n",
    "\n",
    "# Cast Index, Country Code, City Code to integers; Latitude & Longitude to strings\n",
    "df = df.with_columns(\n",
    "    pl.col(\"Index\").cast(pl.Int64),\n",
    "    pl.col(\"Country Code\").cast(pl.Int64),\n",
    "    pl.col(\"City Code\").cast(pl.Int64),\n",
    "    pl.col(\"Latitude\").cast(pl.Float64),\n",
    "    pl.col(\"Longitude\").cast(pl.Float64),\n",
    ")\n",
    "\n",
    "df"
   ]
  },
  {
   "cell_type": "code",
   "execution_count": 16,
   "metadata": {},
   "outputs": [
    {
     "name": "stdout",
     "output_type": "stream",
     "text": [
      "Requirement already satisfied: polars in /Applications/Blender.app/Contents/Resources/4.4/python/lib/python3.11/site-packages (1.25.2)\n"
     ]
    },
    {
     "name": "stderr",
     "output_type": "stream",
     "text": [
      "\n",
      "\u001b[1m[\u001b[0m\u001b[34;49mnotice\u001b[0m\u001b[1;39;49m]\u001b[0m\u001b[39;49m A new release of pip is available: \u001b[0m\u001b[31;49m24.0\u001b[0m\u001b[39;49m -> \u001b[0m\u001b[32;49m25.0.1\u001b[0m\n",
      "\u001b[1m[\u001b[0m\u001b[34;49mnotice\u001b[0m\u001b[1;39;49m]\u001b[0m\u001b[39;49m To update, run: \u001b[0m\u001b[32;49m/Applications/Blender.app/Contents/Resources/4.4/python/bin/python3.11 -m pip install --upgrade pip\u001b[0m\n"
     ]
    },
    {
     "name": "stdout",
     "output_type": "stream",
     "text": [
      "Requirement already satisfied: fastexcel in /Applications/Blender.app/Contents/Resources/4.4/python/lib/python3.11/site-packages (0.13.0)\n",
      "Requirement already satisfied: pyarrow>=8.0.0 in /Applications/Blender.app/Contents/Resources/4.4/python/lib/python3.11/site-packages (from fastexcel) (19.0.1)\n"
     ]
    },
    {
     "name": "stderr",
     "output_type": "stream",
     "text": [
      "\n",
      "\u001b[1m[\u001b[0m\u001b[34;49mnotice\u001b[0m\u001b[1;39;49m]\u001b[0m\u001b[39;49m A new release of pip is available: \u001b[0m\u001b[31;49m24.0\u001b[0m\u001b[39;49m -> \u001b[0m\u001b[32;49m25.0.1\u001b[0m\n",
      "\u001b[1m[\u001b[0m\u001b[34;49mnotice\u001b[0m\u001b[1;39;49m]\u001b[0m\u001b[39;49m To update, run: \u001b[0m\u001b[32;49m/Applications/Blender.app/Contents/Resources/4.4/python/bin/python3.11 -m pip install --upgrade pip\u001b[0m\n"
     ]
    },
    {
     "name": "stdout",
     "output_type": "stream",
     "text": [
      "Requirement already satisfied: databpy in /Applications/Blender.app/Contents/Resources/4.4/python/lib/python3.11/site-packages (0.0.16)\n",
      "Requirement already satisfied: numpy<2.0,>=1.24.0 in /Applications/Blender.app/Contents/Resources/4.4/python/lib/python3.11/site-packages (from databpy) (1.26.4)\n"
     ]
    },
    {
     "name": "stderr",
     "output_type": "stream",
     "text": [
      "\n",
      "\u001b[1m[\u001b[0m\u001b[34;49mnotice\u001b[0m\u001b[1;39;49m]\u001b[0m\u001b[39;49m A new release of pip is available: \u001b[0m\u001b[31;49m24.0\u001b[0m\u001b[39;49m -> \u001b[0m\u001b[32;49m25.0.1\u001b[0m\n",
      "\u001b[1m[\u001b[0m\u001b[34;49mnotice\u001b[0m\u001b[1;39;49m]\u001b[0m\u001b[39;49m To update, run: \u001b[0m\u001b[32;49m/Applications/Blender.app/Contents/Resources/4.4/python/bin/python3.11 -m pip install --upgrade pip\u001b[0m\n"
     ]
    },
    {
     "data": {
      "text/plain": [
       "0"
      ]
     },
     "execution_count": 16,
     "metadata": {},
     "output_type": "execute_result"
    }
   ],
   "source": [
    "import subprocess\n",
    "import sys\n",
    "subprocess.check_call([sys.executable, \"-m\", \"pip\", \"install\", \"polars\"])\n",
    "subprocess.check_call([sys.executable, \"-m\", \"pip\", \"install\", \"fastexcel\"])\n",
    "subprocess.check_call([sys.executable, \"-m\", \"pip\", \"install\", \"databpy\"])\n"
   ]
  },
  {
   "cell_type": "code",
   "execution_count": 18,
   "metadata": {},
   "outputs": [],
   "source": [
    "from csv_importer.parsers import polars_df_to_bob"
   ]
  },
  {
   "cell_type": "code",
   "execution_count": 19,
   "metadata": {},
   "outputs": [
    {
     "data": {
      "text/plain": [
       "'WorldX'"
      ]
     },
     "execution_count": 19,
     "metadata": {},
     "output_type": "execute_result"
    }
   ],
   "source": [
    "from io import StringIO\n",
    "import polars as pl\n",
    "bob = polars_df_to_bob(df, name=\"WorldX\")\n",
    "bob.name"
   ]
  },
  {
   "cell_type": "code",
   "execution_count": 25,
   "metadata": {},
   "outputs": [
    {
     "data": {
      "text/plain": [
       "\u001b[0;31mSignature:\u001b[0m  \u001b[0mpolars_df_to_bob\u001b[0m\u001b[0;34m(\u001b[0m\u001b[0mdf\u001b[0m\u001b[0;34m:\u001b[0m \u001b[0mpolars\u001b[0m\u001b[0;34m.\u001b[0m\u001b[0mdataframe\u001b[0m\u001b[0;34m.\u001b[0m\u001b[0mframe\u001b[0m\u001b[0;34m.\u001b[0m\u001b[0mDataFrame\u001b[0m\u001b[0;34m,\u001b[0m \u001b[0mname\u001b[0m\u001b[0;34m:\u001b[0m \u001b[0mstr\u001b[0m\u001b[0;34m)\u001b[0m \u001b[0;34m->\u001b[0m \u001b[0mdatabpy\u001b[0m\u001b[0;34m.\u001b[0m\u001b[0mobject\u001b[0m\u001b[0;34m.\u001b[0m\u001b[0mBlenderObject\u001b[0m\u001b[0;34m\u001b[0m\u001b[0;34m\u001b[0m\u001b[0m\n",
       "\u001b[0;31mDocstring:\u001b[0m <no docstring>\n",
       "\u001b[0;31mSource:\u001b[0m   \n",
       "\u001b[0;32mdef\u001b[0m \u001b[0mpolars_df_to_bob\u001b[0m\u001b[0;34m(\u001b[0m\u001b[0mdf\u001b[0m\u001b[0;34m:\u001b[0m \u001b[0mpl\u001b[0m\u001b[0;34m.\u001b[0m\u001b[0mDataFrame\u001b[0m\u001b[0;34m,\u001b[0m \u001b[0mname\u001b[0m\u001b[0;34m:\u001b[0m \u001b[0mstr\u001b[0m\u001b[0;34m)\u001b[0m \u001b[0;34m->\u001b[0m \u001b[0mdb\u001b[0m\u001b[0;34m.\u001b[0m\u001b[0mBlenderObject\u001b[0m\u001b[0;34m:\u001b[0m\u001b[0;34m\u001b[0m\n",
       "\u001b[0;34m\u001b[0m    \u001b[0mvertices\u001b[0m \u001b[0;34m=\u001b[0m \u001b[0mnp\u001b[0m\u001b[0;34m.\u001b[0m\u001b[0mzeros\u001b[0m\u001b[0;34m(\u001b[0m\u001b[0;34m(\u001b[0m\u001b[0mlen\u001b[0m\u001b[0;34m(\u001b[0m\u001b[0mdf\u001b[0m\u001b[0;34m)\u001b[0m\u001b[0;34m,\u001b[0m \u001b[0;36m3\u001b[0m\u001b[0;34m)\u001b[0m\u001b[0;34m,\u001b[0m \u001b[0mdtype\u001b[0m\u001b[0;34m=\u001b[0m\u001b[0mnp\u001b[0m\u001b[0;34m.\u001b[0m\u001b[0mfloat32\u001b[0m\u001b[0;34m)\u001b[0m\u001b[0;34m\u001b[0m\n",
       "\u001b[0;34m\u001b[0m    \u001b[0mbob\u001b[0m \u001b[0;34m=\u001b[0m \u001b[0mdb\u001b[0m\u001b[0;34m.\u001b[0m\u001b[0mcreate_bob\u001b[0m\u001b[0;34m(\u001b[0m\u001b[0mvertices\u001b[0m\u001b[0;34m,\u001b[0m \u001b[0mname\u001b[0m\u001b[0;34m=\u001b[0m\u001b[0mname\u001b[0m\u001b[0;34m)\u001b[0m\u001b[0;34m\u001b[0m\n",
       "\u001b[0;34m\u001b[0m\u001b[0;34m\u001b[0m\n",
       "\u001b[0;34m\u001b[0m    \u001b[0mupdate_bob_from_polars_df\u001b[0m\u001b[0;34m(\u001b[0m\u001b[0mbob\u001b[0m\u001b[0;34m,\u001b[0m \u001b[0mdf\u001b[0m\u001b[0;34m)\u001b[0m\u001b[0;34m\u001b[0m\n",
       "\u001b[0;34m\u001b[0m    \u001b[0;32mreturn\u001b[0m \u001b[0mbob\u001b[0m\u001b[0;34m\u001b[0m\u001b[0;34m\u001b[0m\u001b[0m\n",
       "\u001b[0;31mFile:\u001b[0m      ~/Library/Application Support/Blender/4.3/extensions/blender_org/csv_importer/parsers.py\n",
       "\u001b[0;31mType:\u001b[0m      function"
      ]
     },
     "metadata": {},
     "output_type": "display_data"
    }
   ],
   "source": [
    "?? polars_df_to_bob"
   ]
  },
  {
   "cell_type": "code",
   "execution_count": null,
   "metadata": {},
   "outputs": [],
   "source": []
  }
 ],
 "metadata": {
  "kernelspec": {
   "display_name": "Python 3 (ipykernel)",
   "language": "python",
   "name": "python3"
  }
 },
 "nbformat": 4,
 "nbformat_minor": 4
}
